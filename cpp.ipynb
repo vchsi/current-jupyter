{
 "cells": [
  {
   "cell_type": "code",
   "execution_count": null,
   "id": "3ee074d0-d60a-43f1-a689-8d434e8dbd38",
   "metadata": {},
   "outputs": [],
   "source": []
  }
 ],
 "metadata": {
  "kernelspec": {
   "display_name": "C++14",
   "language": "C++14",
   "name": "xcpp14"
  },
  "language_info": {
   "codemirror_mode": "text/x-c++src",
   "file_extension": ".cpp",
   "mimetype": "text/x-c++src",
   "name": "c++",
   "version": "14"
  }
 },
 "nbformat": 4,
 "nbformat_minor": 5
}
